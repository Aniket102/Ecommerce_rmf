{
  "nbformat": 4,
  "nbformat_minor": 0,
  "metadata": {
    "colab": {
      "provenance": []
    },
    "kernelspec": {
      "name": "python3",
      "display_name": "Python 3"
    },
    "language_info": {
      "name": "python"
    }
  },
  "cells": [
    {
      "cell_type": "code",
      "source": [
        "import numpy as np\n",
        "import pandas as pd\n",
        "import seaborn as sns\n",
        "import matplotlib.pyplot as plt \n",
        "import datetime\n",
        "import math\n",
        "import random\n",
        "import numpy as np\n",
        "import pandas as pd\n",
        "import re"
      ],
      "metadata": {
        "id": "JuLMtPSQ3Cvu"
      },
      "execution_count": null,
      "outputs": []
    },
    {
      "cell_type": "code",
      "source": [
        "import warnings\n",
        "warnings.filterwarnings('ignore')"
      ],
      "metadata": {
        "id": "d9Phx0mHM66W"
      },
      "execution_count": null,
      "outputs": []
    },
    {
      "cell_type": "code",
      "source": [
        "from google.colab import drive\n",
        "drive.mount('/content/drive')"
      ],
      "metadata": {
        "colab": {
          "base_uri": "https://localhost:8080/"
        },
        "id": "OjK7n7jaNJio",
        "outputId": "0257a49c-e381-41b3-ec53-aec9038550a9"
      },
      "execution_count": null,
      "outputs": [
        {
          "output_type": "stream",
          "name": "stdout",
          "text": [
            "Drive already mounted at /content/drive; to attempt to forcibly remount, call drive.mount(\"/content/drive\", force_remount=True).\n"
          ]
        }
      ]
    },
    {
      "cell_type": "code",
      "source": [
        "df_raw = pd.read_csv('/content/drive/MyDrive/ig/ecom/Ecommerce.csv',  encoding=\"iso8859-1\")\n"
      ],
      "metadata": {
        "id": "uzlUT36SNKMU"
      },
      "execution_count": null,
      "outputs": []
    },
    {
      "cell_type": "code",
      "source": [
        "df0 = df_raw.copy()"
      ],
      "metadata": {
        "id": "fc7GHJNzvPrk"
      },
      "execution_count": null,
      "outputs": []
    },
    {
      "cell_type": "code",
      "source": [
        "df0.rename(columns={\"InvoiceNo\":\"invoice_num\", \n",
        "                   \"StockCode\":\"stock_code\", \n",
        "                  \"Description\":\"description\", \n",
        "                  \"Quantity\":\"quantity\", \n",
        "                  \"InvoiceDate\":\"invoice_date\", \n",
        "                  \"UnitPrice\":\"unit_price\", \n",
        "                  \"CustomerID\":\"customer_id\", \n",
        "                  \"Country\":\"country\"}, inplace=True)"
      ],
      "metadata": {
        "id": "sx3wk2UFvqFG"
      },
      "execution_count": null,
      "outputs": []
    },
    {
      "cell_type": "code",
      "source": [
        "df0.drop(df0.columns[df0.columns.str.contains('unnamed',case = False)],axis = 1, inplace = True)\n"
      ],
      "metadata": {
        "id": "kaZnro_swjCu"
      },
      "execution_count": null,
      "outputs": []
    },
    {
      "cell_type": "code",
      "source": [
        "df1=df0.dropna()"
      ],
      "metadata": {
        "id": "WYCm21yiv_dm"
      },
      "execution_count": null,
      "outputs": []
    },
    {
      "cell_type": "code",
      "source": [
        "df1.head()"
      ],
      "metadata": {
        "id": "EbUQv8HwPFhA",
        "outputId": "8e0bcd7f-abff-40d4-e7eb-c5ccf706d897",
        "colab": {
          "base_uri": "https://localhost:8080/",
          "height": 206
        }
      },
      "execution_count": null,
      "outputs": [
        {
          "output_type": "execute_result",
          "data": {
            "text/plain": [
              "  invoice_num stock_code                          description  quantity  \\\n",
              "0      536365     85123A   WHITE HANGING HEART T-LIGHT HOLDER         6   \n",
              "1      536365      71053                  WHITE METAL LANTERN         6   \n",
              "2      536365     84406B       CREAM CUPID HEARTS COAT HANGER         8   \n",
              "3      536365     84029G  KNITTED UNION FLAG HOT WATER BOTTLE         6   \n",
              "4      536365     84029E       RED WOOLLY HOTTIE WHITE HEART.         6   \n",
              "\n",
              "  invoice_date  unit_price  customer_id         country  \n",
              "0    29-Nov-16        2.55      17850.0  United Kingdom  \n",
              "1    29-Nov-16        3.39      17850.0  United Kingdom  \n",
              "2    29-Nov-16        2.75      17850.0  United Kingdom  \n",
              "3    29-Nov-16        3.39      17850.0  United Kingdom  \n",
              "4    29-Nov-16        3.39      17850.0  United Kingdom  "
            ],
            "text/html": [
              "\n",
              "  <div id=\"df-9e003261-22bb-42a9-b766-871579392387\">\n",
              "    <div class=\"colab-df-container\">\n",
              "      <div>\n",
              "<style scoped>\n",
              "    .dataframe tbody tr th:only-of-type {\n",
              "        vertical-align: middle;\n",
              "    }\n",
              "\n",
              "    .dataframe tbody tr th {\n",
              "        vertical-align: top;\n",
              "    }\n",
              "\n",
              "    .dataframe thead th {\n",
              "        text-align: right;\n",
              "    }\n",
              "</style>\n",
              "<table border=\"1\" class=\"dataframe\">\n",
              "  <thead>\n",
              "    <tr style=\"text-align: right;\">\n",
              "      <th></th>\n",
              "      <th>invoice_num</th>\n",
              "      <th>stock_code</th>\n",
              "      <th>description</th>\n",
              "      <th>quantity</th>\n",
              "      <th>invoice_date</th>\n",
              "      <th>unit_price</th>\n",
              "      <th>customer_id</th>\n",
              "      <th>country</th>\n",
              "    </tr>\n",
              "  </thead>\n",
              "  <tbody>\n",
              "    <tr>\n",
              "      <th>0</th>\n",
              "      <td>536365</td>\n",
              "      <td>85123A</td>\n",
              "      <td>WHITE HANGING HEART T-LIGHT HOLDER</td>\n",
              "      <td>6</td>\n",
              "      <td>29-Nov-16</td>\n",
              "      <td>2.55</td>\n",
              "      <td>17850.0</td>\n",
              "      <td>United Kingdom</td>\n",
              "    </tr>\n",
              "    <tr>\n",
              "      <th>1</th>\n",
              "      <td>536365</td>\n",
              "      <td>71053</td>\n",
              "      <td>WHITE METAL LANTERN</td>\n",
              "      <td>6</td>\n",
              "      <td>29-Nov-16</td>\n",
              "      <td>3.39</td>\n",
              "      <td>17850.0</td>\n",
              "      <td>United Kingdom</td>\n",
              "    </tr>\n",
              "    <tr>\n",
              "      <th>2</th>\n",
              "      <td>536365</td>\n",
              "      <td>84406B</td>\n",
              "      <td>CREAM CUPID HEARTS COAT HANGER</td>\n",
              "      <td>8</td>\n",
              "      <td>29-Nov-16</td>\n",
              "      <td>2.75</td>\n",
              "      <td>17850.0</td>\n",
              "      <td>United Kingdom</td>\n",
              "    </tr>\n",
              "    <tr>\n",
              "      <th>3</th>\n",
              "      <td>536365</td>\n",
              "      <td>84029G</td>\n",
              "      <td>KNITTED UNION FLAG HOT WATER BOTTLE</td>\n",
              "      <td>6</td>\n",
              "      <td>29-Nov-16</td>\n",
              "      <td>3.39</td>\n",
              "      <td>17850.0</td>\n",
              "      <td>United Kingdom</td>\n",
              "    </tr>\n",
              "    <tr>\n",
              "      <th>4</th>\n",
              "      <td>536365</td>\n",
              "      <td>84029E</td>\n",
              "      <td>RED WOOLLY HOTTIE WHITE HEART.</td>\n",
              "      <td>6</td>\n",
              "      <td>29-Nov-16</td>\n",
              "      <td>3.39</td>\n",
              "      <td>17850.0</td>\n",
              "      <td>United Kingdom</td>\n",
              "    </tr>\n",
              "  </tbody>\n",
              "</table>\n",
              "</div>\n",
              "      <button class=\"colab-df-convert\" onclick=\"convertToInteractive('df-9e003261-22bb-42a9-b766-871579392387')\"\n",
              "              title=\"Convert this dataframe to an interactive table.\"\n",
              "              style=\"display:none;\">\n",
              "        \n",
              "  <svg xmlns=\"http://www.w3.org/2000/svg\" height=\"24px\"viewBox=\"0 0 24 24\"\n",
              "       width=\"24px\">\n",
              "    <path d=\"M0 0h24v24H0V0z\" fill=\"none\"/>\n",
              "    <path d=\"M18.56 5.44l.94 2.06.94-2.06 2.06-.94-2.06-.94-.94-2.06-.94 2.06-2.06.94zm-11 1L8.5 8.5l.94-2.06 2.06-.94-2.06-.94L8.5 2.5l-.94 2.06-2.06.94zm10 10l.94 2.06.94-2.06 2.06-.94-2.06-.94-.94-2.06-.94 2.06-2.06.94z\"/><path d=\"M17.41 7.96l-1.37-1.37c-.4-.4-.92-.59-1.43-.59-.52 0-1.04.2-1.43.59L10.3 9.45l-7.72 7.72c-.78.78-.78 2.05 0 2.83L4 21.41c.39.39.9.59 1.41.59.51 0 1.02-.2 1.41-.59l7.78-7.78 2.81-2.81c.8-.78.8-2.07 0-2.86zM5.41 20L4 18.59l7.72-7.72 1.47 1.35L5.41 20z\"/>\n",
              "  </svg>\n",
              "      </button>\n",
              "      \n",
              "  <style>\n",
              "    .colab-df-container {\n",
              "      display:flex;\n",
              "      flex-wrap:wrap;\n",
              "      gap: 12px;\n",
              "    }\n",
              "\n",
              "    .colab-df-convert {\n",
              "      background-color: #E8F0FE;\n",
              "      border: none;\n",
              "      border-radius: 50%;\n",
              "      cursor: pointer;\n",
              "      display: none;\n",
              "      fill: #1967D2;\n",
              "      height: 32px;\n",
              "      padding: 0 0 0 0;\n",
              "      width: 32px;\n",
              "    }\n",
              "\n",
              "    .colab-df-convert:hover {\n",
              "      background-color: #E2EBFA;\n",
              "      box-shadow: 0px 1px 2px rgba(60, 64, 67, 0.3), 0px 1px 3px 1px rgba(60, 64, 67, 0.15);\n",
              "      fill: #174EA6;\n",
              "    }\n",
              "\n",
              "    [theme=dark] .colab-df-convert {\n",
              "      background-color: #3B4455;\n",
              "      fill: #D2E3FC;\n",
              "    }\n",
              "\n",
              "    [theme=dark] .colab-df-convert:hover {\n",
              "      background-color: #434B5C;\n",
              "      box-shadow: 0px 1px 3px 1px rgba(0, 0, 0, 0.15);\n",
              "      filter: drop-shadow(0px 1px 2px rgba(0, 0, 0, 0.3));\n",
              "      fill: #FFFFFF;\n",
              "    }\n",
              "  </style>\n",
              "\n",
              "      <script>\n",
              "        const buttonEl =\n",
              "          document.querySelector('#df-9e003261-22bb-42a9-b766-871579392387 button.colab-df-convert');\n",
              "        buttonEl.style.display =\n",
              "          google.colab.kernel.accessAllowed ? 'block' : 'none';\n",
              "\n",
              "        async function convertToInteractive(key) {\n",
              "          const element = document.querySelector('#df-9e003261-22bb-42a9-b766-871579392387');\n",
              "          const dataTable =\n",
              "            await google.colab.kernel.invokeFunction('convertToInteractive',\n",
              "                                                     [key], {});\n",
              "          if (!dataTable) return;\n",
              "\n",
              "          const docLinkHtml = 'Like what you see? Visit the ' +\n",
              "            '<a target=\"_blank\" href=https://colab.research.google.com/notebooks/data_table.ipynb>data table notebook</a>'\n",
              "            + ' to learn more about interactive tables.';\n",
              "          element.innerHTML = '';\n",
              "          dataTable['output_type'] = 'display_data';\n",
              "          await google.colab.output.renderOutput(dataTable, element);\n",
              "          const docLink = document.createElement('div');\n",
              "          docLink.innerHTML = docLinkHtml;\n",
              "          element.appendChild(docLink);\n",
              "        }\n",
              "      </script>\n",
              "    </div>\n",
              "  </div>\n",
              "  "
            ]
          },
          "metadata": {},
          "execution_count": 22
        }
      ]
    },
    {
      "cell_type": "code",
      "source": [
        "# invoice date\n",
        "df1['invoice_date'] = pd.to_datetime(df1['invoice_date'], format='%d-%b-%y')\n",
        "\n"
      ],
      "metadata": {
        "id": "OVhzAB0_PAl1"
      },
      "execution_count": null,
      "outputs": []
    },
    {
      "cell_type": "code",
      "source": [
        "# customer id\n",
        "df1['customer_id'] = df1['customer_id'].astype(int)"
      ],
      "metadata": {
        "id": "IEllXPXNvXHh"
      },
      "execution_count": null,
      "outputs": []
    },
    {
      "cell_type": "markdown",
      "source": [
        "change the invoice number"
      ],
      "metadata": {
        "id": "EZDt_t6Dxjvl"
      }
    },
    {
      "cell_type": "code",
      "source": [
        "df1.loc[df1['invoice_num'].apply(lambda x: bool(re.search('[^0-9]+', x))), :]"
      ],
      "metadata": {
        "colab": {
          "base_uri": "https://localhost:8080/",
          "height": 424
        },
        "id": "e-aR8OCuv9l1",
        "outputId": "d188eee1-2da4-415c-934d-9e462eb4ec3e"
      },
      "execution_count": null,
      "outputs": [
        {
          "output_type": "execute_result",
          "data": {
            "text/plain": [
              "       invoice_num stock_code                       description  quantity  \\\n",
              "141        C536379          D                          Discount        -1   \n",
              "154        C536383     35004C   SET OF 3 COLOURED  FLYING DUCKS        -1   \n",
              "235        C536391      22556    PLASTERS IN TIN CIRCUS PARADE        -12   \n",
              "236        C536391      21984  PACK OF 12 PINK PAISLEY TISSUES        -24   \n",
              "237        C536391      21983  PACK OF 12 BLUE PAISLEY TISSUES        -24   \n",
              "...            ...        ...                               ...       ...   \n",
              "540449     C581490      23144   ZINC T-LIGHT HOLDER STARS SMALL       -11   \n",
              "541541     C581499          M                            Manual        -1   \n",
              "541715     C581568      21258        VICTORIAN SEWING BOX LARGE        -5   \n",
              "541716     C581569      84978  HANGING HEART JAR T-LIGHT HOLDER        -1   \n",
              "541717     C581569      20979     36 PENCILS TUBE RED RETROSPOT        -5   \n",
              "\n",
              "       invoice_date  unit_price  customer_id         country  \n",
              "141      2016-11-29       27.50        14527  United Kingdom  \n",
              "154      2016-11-29        4.65        15311  United Kingdom  \n",
              "235      2016-11-29        1.65        17548  United Kingdom  \n",
              "236      2016-11-29        0.29        17548  United Kingdom  \n",
              "237      2016-11-29        0.29        17548  United Kingdom  \n",
              "...             ...         ...          ...             ...  \n",
              "540449   2017-12-07        0.83        14397  United Kingdom  \n",
              "541541   2017-12-07      224.69        15498  United Kingdom  \n",
              "541715   2017-12-07       10.95        15311  United Kingdom  \n",
              "541716   2017-12-07        1.25        17315  United Kingdom  \n",
              "541717   2017-12-07        1.25        17315  United Kingdom  \n",
              "\n",
              "[8905 rows x 8 columns]"
            ],
            "text/html": [
              "\n",
              "  <div id=\"df-b6a35632-b0b0-45cf-a708-b8e545b168ca\">\n",
              "    <div class=\"colab-df-container\">\n",
              "      <div>\n",
              "<style scoped>\n",
              "    .dataframe tbody tr th:only-of-type {\n",
              "        vertical-align: middle;\n",
              "    }\n",
              "\n",
              "    .dataframe tbody tr th {\n",
              "        vertical-align: top;\n",
              "    }\n",
              "\n",
              "    .dataframe thead th {\n",
              "        text-align: right;\n",
              "    }\n",
              "</style>\n",
              "<table border=\"1\" class=\"dataframe\">\n",
              "  <thead>\n",
              "    <tr style=\"text-align: right;\">\n",
              "      <th></th>\n",
              "      <th>invoice_num</th>\n",
              "      <th>stock_code</th>\n",
              "      <th>description</th>\n",
              "      <th>quantity</th>\n",
              "      <th>invoice_date</th>\n",
              "      <th>unit_price</th>\n",
              "      <th>customer_id</th>\n",
              "      <th>country</th>\n",
              "    </tr>\n",
              "  </thead>\n",
              "  <tbody>\n",
              "    <tr>\n",
              "      <th>141</th>\n",
              "      <td>C536379</td>\n",
              "      <td>D</td>\n",
              "      <td>Discount</td>\n",
              "      <td>-1</td>\n",
              "      <td>2016-11-29</td>\n",
              "      <td>27.50</td>\n",
              "      <td>14527</td>\n",
              "      <td>United Kingdom</td>\n",
              "    </tr>\n",
              "    <tr>\n",
              "      <th>154</th>\n",
              "      <td>C536383</td>\n",
              "      <td>35004C</td>\n",
              "      <td>SET OF 3 COLOURED  FLYING DUCKS</td>\n",
              "      <td>-1</td>\n",
              "      <td>2016-11-29</td>\n",
              "      <td>4.65</td>\n",
              "      <td>15311</td>\n",
              "      <td>United Kingdom</td>\n",
              "    </tr>\n",
              "    <tr>\n",
              "      <th>235</th>\n",
              "      <td>C536391</td>\n",
              "      <td>22556</td>\n",
              "      <td>PLASTERS IN TIN CIRCUS PARADE</td>\n",
              "      <td>-12</td>\n",
              "      <td>2016-11-29</td>\n",
              "      <td>1.65</td>\n",
              "      <td>17548</td>\n",
              "      <td>United Kingdom</td>\n",
              "    </tr>\n",
              "    <tr>\n",
              "      <th>236</th>\n",
              "      <td>C536391</td>\n",
              "      <td>21984</td>\n",
              "      <td>PACK OF 12 PINK PAISLEY TISSUES</td>\n",
              "      <td>-24</td>\n",
              "      <td>2016-11-29</td>\n",
              "      <td>0.29</td>\n",
              "      <td>17548</td>\n",
              "      <td>United Kingdom</td>\n",
              "    </tr>\n",
              "    <tr>\n",
              "      <th>237</th>\n",
              "      <td>C536391</td>\n",
              "      <td>21983</td>\n",
              "      <td>PACK OF 12 BLUE PAISLEY TISSUES</td>\n",
              "      <td>-24</td>\n",
              "      <td>2016-11-29</td>\n",
              "      <td>0.29</td>\n",
              "      <td>17548</td>\n",
              "      <td>United Kingdom</td>\n",
              "    </tr>\n",
              "    <tr>\n",
              "      <th>...</th>\n",
              "      <td>...</td>\n",
              "      <td>...</td>\n",
              "      <td>...</td>\n",
              "      <td>...</td>\n",
              "      <td>...</td>\n",
              "      <td>...</td>\n",
              "      <td>...</td>\n",
              "      <td>...</td>\n",
              "    </tr>\n",
              "    <tr>\n",
              "      <th>540449</th>\n",
              "      <td>C581490</td>\n",
              "      <td>23144</td>\n",
              "      <td>ZINC T-LIGHT HOLDER STARS SMALL</td>\n",
              "      <td>-11</td>\n",
              "      <td>2017-12-07</td>\n",
              "      <td>0.83</td>\n",
              "      <td>14397</td>\n",
              "      <td>United Kingdom</td>\n",
              "    </tr>\n",
              "    <tr>\n",
              "      <th>541541</th>\n",
              "      <td>C581499</td>\n",
              "      <td>M</td>\n",
              "      <td>Manual</td>\n",
              "      <td>-1</td>\n",
              "      <td>2017-12-07</td>\n",
              "      <td>224.69</td>\n",
              "      <td>15498</td>\n",
              "      <td>United Kingdom</td>\n",
              "    </tr>\n",
              "    <tr>\n",
              "      <th>541715</th>\n",
              "      <td>C581568</td>\n",
              "      <td>21258</td>\n",
              "      <td>VICTORIAN SEWING BOX LARGE</td>\n",
              "      <td>-5</td>\n",
              "      <td>2017-12-07</td>\n",
              "      <td>10.95</td>\n",
              "      <td>15311</td>\n",
              "      <td>United Kingdom</td>\n",
              "    </tr>\n",
              "    <tr>\n",
              "      <th>541716</th>\n",
              "      <td>C581569</td>\n",
              "      <td>84978</td>\n",
              "      <td>HANGING HEART JAR T-LIGHT HOLDER</td>\n",
              "      <td>-1</td>\n",
              "      <td>2017-12-07</td>\n",
              "      <td>1.25</td>\n",
              "      <td>17315</td>\n",
              "      <td>United Kingdom</td>\n",
              "    </tr>\n",
              "    <tr>\n",
              "      <th>541717</th>\n",
              "      <td>C581569</td>\n",
              "      <td>20979</td>\n",
              "      <td>36 PENCILS TUBE RED RETROSPOT</td>\n",
              "      <td>-5</td>\n",
              "      <td>2017-12-07</td>\n",
              "      <td>1.25</td>\n",
              "      <td>17315</td>\n",
              "      <td>United Kingdom</td>\n",
              "    </tr>\n",
              "  </tbody>\n",
              "</table>\n",
              "<p>8905 rows × 8 columns</p>\n",
              "</div>\n",
              "      <button class=\"colab-df-convert\" onclick=\"convertToInteractive('df-b6a35632-b0b0-45cf-a708-b8e545b168ca')\"\n",
              "              title=\"Convert this dataframe to an interactive table.\"\n",
              "              style=\"display:none;\">\n",
              "        \n",
              "  <svg xmlns=\"http://www.w3.org/2000/svg\" height=\"24px\"viewBox=\"0 0 24 24\"\n",
              "       width=\"24px\">\n",
              "    <path d=\"M0 0h24v24H0V0z\" fill=\"none\"/>\n",
              "    <path d=\"M18.56 5.44l.94 2.06.94-2.06 2.06-.94-2.06-.94-.94-2.06-.94 2.06-2.06.94zm-11 1L8.5 8.5l.94-2.06 2.06-.94-2.06-.94L8.5 2.5l-.94 2.06-2.06.94zm10 10l.94 2.06.94-2.06 2.06-.94-2.06-.94-.94-2.06-.94 2.06-2.06.94z\"/><path d=\"M17.41 7.96l-1.37-1.37c-.4-.4-.92-.59-1.43-.59-.52 0-1.04.2-1.43.59L10.3 9.45l-7.72 7.72c-.78.78-.78 2.05 0 2.83L4 21.41c.39.39.9.59 1.41.59.51 0 1.02-.2 1.41-.59l7.78-7.78 2.81-2.81c.8-.78.8-2.07 0-2.86zM5.41 20L4 18.59l7.72-7.72 1.47 1.35L5.41 20z\"/>\n",
              "  </svg>\n",
              "      </button>\n",
              "      \n",
              "  <style>\n",
              "    .colab-df-container {\n",
              "      display:flex;\n",
              "      flex-wrap:wrap;\n",
              "      gap: 12px;\n",
              "    }\n",
              "\n",
              "    .colab-df-convert {\n",
              "      background-color: #E8F0FE;\n",
              "      border: none;\n",
              "      border-radius: 50%;\n",
              "      cursor: pointer;\n",
              "      display: none;\n",
              "      fill: #1967D2;\n",
              "      height: 32px;\n",
              "      padding: 0 0 0 0;\n",
              "      width: 32px;\n",
              "    }\n",
              "\n",
              "    .colab-df-convert:hover {\n",
              "      background-color: #E2EBFA;\n",
              "      box-shadow: 0px 1px 2px rgba(60, 64, 67, 0.3), 0px 1px 3px 1px rgba(60, 64, 67, 0.15);\n",
              "      fill: #174EA6;\n",
              "    }\n",
              "\n",
              "    [theme=dark] .colab-df-convert {\n",
              "      background-color: #3B4455;\n",
              "      fill: #D2E3FC;\n",
              "    }\n",
              "\n",
              "    [theme=dark] .colab-df-convert:hover {\n",
              "      background-color: #434B5C;\n",
              "      box-shadow: 0px 1px 3px 1px rgba(0, 0, 0, 0.15);\n",
              "      filter: drop-shadow(0px 1px 2px rgba(0, 0, 0, 0.3));\n",
              "      fill: #FFFFFF;\n",
              "    }\n",
              "  </style>\n",
              "\n",
              "      <script>\n",
              "        const buttonEl =\n",
              "          document.querySelector('#df-b6a35632-b0b0-45cf-a708-b8e545b168ca button.colab-df-convert');\n",
              "        buttonEl.style.display =\n",
              "          google.colab.kernel.accessAllowed ? 'block' : 'none';\n",
              "\n",
              "        async function convertToInteractive(key) {\n",
              "          const element = document.querySelector('#df-b6a35632-b0b0-45cf-a708-b8e545b168ca');\n",
              "          const dataTable =\n",
              "            await google.colab.kernel.invokeFunction('convertToInteractive',\n",
              "                                                     [key], {});\n",
              "          if (!dataTable) return;\n",
              "\n",
              "          const docLinkHtml = 'Like what you see? Visit the ' +\n",
              "            '<a target=\"_blank\" href=https://colab.research.google.com/notebooks/data_table.ipynb>data table notebook</a>'\n",
              "            + ' to learn more about interactive tables.';\n",
              "          element.innerHTML = '';\n",
              "          dataTable['output_type'] = 'display_data';\n",
              "          await google.colab.output.renderOutput(dataTable, element);\n",
              "          const docLink = document.createElement('div');\n",
              "          docLink.innerHTML = docLinkHtml;\n",
              "          element.appendChild(docLink);\n",
              "        }\n",
              "      </script>\n",
              "    </div>\n",
              "  </div>\n",
              "  "
            ]
          },
          "metadata": {},
          "execution_count": 25
        }
      ]
    },
    {
      "cell_type": "code",
      "source": [
        "df_aux2 = df1.loc[df1['stock_code'].apply(lambda x: bool(re.search('^[a-zA-Z]+$', x))), :]"
      ],
      "metadata": {
        "id": "XUQkPn48xctQ"
      },
      "execution_count": null,
      "outputs": []
    },
    {
      "cell_type": "code",
      "source": [
        "print('Unique stock codes with letters: {}'.format(df_aux2['stock_code'].unique()))\n",
        "print('Percentage of unique stock codes with letters: {}'.format(df_aux2['stock_code'].shape[0] / df1.shape[0]))"
      ],
      "metadata": {
        "colab": {
          "base_uri": "https://localhost:8080/"
        },
        "id": "n6AqVrU4xpVv",
        "outputId": "7fed2d4e-810e-4452-e4c7-2c5515e5d222"
      },
      "execution_count": null,
      "outputs": [
        {
          "output_type": "stream",
          "name": "stdout",
          "text": [
            "Unique stock codes with letters: ['POST' 'D' 'M' 'PADS' 'DOT' 'CRUK']\n",
            "Percentage of unique stock codes with letters: 0.004360554434418392\n"
          ]
        }
      ]
    },
    {
      "cell_type": "code",
      "source": [
        "\n",
        "df2 = df1.copy()\n"
      ],
      "metadata": {
        "id": "W6zBKCxqxubn"
      },
      "execution_count": null,
      "outputs": []
    },
    {
      "cell_type": "code",
      "source": [
        "# numerical attributes\n",
        "df2 = df2.loc[df2['unit_price'] >= 0.04, :]"
      ],
      "metadata": {
        "id": "PKbQowO0xx17"
      },
      "execution_count": null,
      "outputs": []
    },
    {
      "cell_type": "code",
      "source": [
        "# categorical attributes\n",
        "df2 = df2[~df2['stock_code'].isin(['POST', 'D', 'DOT', 'M', 'S', 'AMAZONFEE', 'm', 'DCGSSBOY', 'DCGSSGIRL', 'PADS', 'B', 'CRUK'])]"
      ],
      "metadata": {
        "id": "eS1n5oF4x5gG"
      },
      "execution_count": null,
      "outputs": []
    },
    {
      "cell_type": "code",
      "source": [
        "# description\n",
        "df2 = df2.drop(columns='description', axis=1)"
      ],
      "metadata": {
        "id": "mqElsjPFySBe"
      },
      "execution_count": null,
      "outputs": []
    },
    {
      "cell_type": "code",
      "source": [
        "# map\n",
        "df2 = df2[~df2['stock_code'].isin(['European Community',  'Unspecified'])]"
      ],
      "metadata": {
        "id": "ARw5fKKGyU4l"
      },
      "execution_count": null,
      "outputs": []
    },
    {
      "cell_type": "code",
      "source": [
        "# bad customer ( devolution and small basket)\n",
        "df2 = df2[~df2['customer_id'].isin([16446])]"
      ],
      "metadata": {
        "id": "Y8RrUWYFyX2P"
      },
      "execution_count": null,
      "outputs": []
    },
    {
      "cell_type": "code",
      "source": [
        "# quantity\n",
        "df2_returns = df2.loc[df1['quantity'] < 0, :]\n",
        "df2_purchases = df2.loc[df1['quantity'] >= 0, :]"
      ],
      "metadata": {
        "id": "IDleipoxyaQX"
      },
      "execution_count": null,
      "outputs": []
    },
    {
      "cell_type": "code",
      "source": [
        "df3 = df2.copy()"
      ],
      "metadata": {
        "id": "8Hww2XA5ycnh"
      },
      "execution_count": null,
      "outputs": []
    },
    {
      "cell_type": "code",
      "source": [
        "df_ref = df3.drop(['invoice_num', 'stock_code', 'quantity', 'invoice_date', 'unit_price', 'country'], axis=1).drop_duplicates(ignore_index=True)"
      ],
      "metadata": {
        "id": "k85Wd07Yye_B"
      },
      "execution_count": null,
      "outputs": []
    },
    {
      "cell_type": "code",
      "source": [
        "# gross revenue - Quantity x price\n",
        "df2_purchases.loc[:, 'gross_revenue'] = df2_purchases.loc[:, 'quantity'] * df2_purchases.loc[:, 'unit_price']\n",
        "                                "
      ],
      "metadata": {
        "id": "-3BK1UWfyj8J"
      },
      "execution_count": null,
      "outputs": []
    },
    {
      "cell_type": "code",
      "source": [
        "# monetary\n",
        "df_monetary = df2_purchases.loc[:, ['customer_id', 'gross_revenue']].groupby('customer_id').sum().reset_index()\n",
        "df_ref = pd.merge(df_ref, df_monetary, on='customer_id', how='left')"
      ],
      "metadata": {
        "id": "8n-dFKPxyq9p"
      },
      "execution_count": null,
      "outputs": []
    },
    {
      "cell_type": "code",
      "source": [
        "# days from last purchase\n",
        "df_recency = df2_purchases.loc[:, ['customer_id', 'invoice_date']].groupby('customer_id').max().reset_index()\n",
        "df_recency['recency_days'] = (df2['invoice_date'].max() - df_recency['invoice_date']).dt.days\n",
        "df_recency = df_recency[['customer_id', 'recency_days']].copy()\n",
        "df_ref = pd.merge(df_ref, df_recency, on='customer_id', how='left')\n",
        "df_ref.isna().sum()"
      ],
      "metadata": {
        "colab": {
          "base_uri": "https://localhost:8080/"
        },
        "id": "hNAzlWD9ys5A",
        "outputId": "9996e54a-3207-4dd1-add3-2020aa66570c"
      },
      "execution_count": null,
      "outputs": [
        {
          "output_type": "execute_result",
          "data": {
            "text/plain": [
              "customer_id       0\n",
              "gross_revenue    27\n",
              "recency_days     27\n",
              "dtype: int64"
            ]
          },
          "metadata": {},
          "execution_count": 39
        }
      ]
    },
    {
      "cell_type": "code",
      "source": [
        "# frecuency\n",
        "df_freq = (df2_purchases.loc[:, ['customer_id', 'invoice_num']].drop_duplicates()\n",
        "                                                             .groupby( 'customer_id' )\n",
        "                                                             .count()\n",
        "                                                             .reset_index()\n",
        "                                                             .rename( columns={'invoice_num': 'qtde_invoices'}) )\n",
        "df_ref = pd.merge( df_ref, df_freq, on='customer_id', how='left' )\n",
        "df_ref.isna().sum()"
      ],
      "metadata": {
        "colab": {
          "base_uri": "https://localhost:8080/"
        },
        "id": "L6TxM0J6yurX",
        "outputId": "5411191e-4014-407a-8b6c-30375cd3a9ef"
      },
      "execution_count": null,
      "outputs": [
        {
          "output_type": "execute_result",
          "data": {
            "text/plain": [
              "customer_id       0\n",
              "gross_revenue    27\n",
              "recency_days     27\n",
              "qtde_invoices    27\n",
              "dtype: int64"
            ]
          },
          "metadata": {},
          "execution_count": 40
        }
      ]
    },
    {
      "cell_type": "code",
      "source": [
        "# total number of products\n",
        "df_freq = (df2_purchases.loc[:, ['customer_id', 'quantity']].groupby( 'customer_id' ).sum()\n",
        "                                                           .reset_index()\n",
        "                                                           .rename( columns={'quantity': 'qtde_items'} ) )\n",
        "df_ref = pd.merge( df_ref, df_freq, on='customer_id', how='left' )\n",
        "df_ref.isna().sum()"
      ],
      "metadata": {
        "colab": {
          "base_uri": "https://localhost:8080/"
        },
        "id": "Vj5aWax7ywsh",
        "outputId": "1bae8ea9-fdaf-4b9d-8de9-7ac61768d5be"
      },
      "execution_count": null,
      "outputs": [
        {
          "output_type": "execute_result",
          "data": {
            "text/plain": [
              "customer_id       0\n",
              "gross_revenue    27\n",
              "recency_days     27\n",
              "qtde_invoices    27\n",
              "qtde_items       27\n",
              "dtype: int64"
            ]
          },
          "metadata": {},
          "execution_count": 41
        }
      ]
    },
    {
      "cell_type": "code",
      "source": [
        "# number of products types\n",
        "df_freq = (df2_purchases.loc[:, ['customer_id', 'stock_code']].groupby( 'customer_id' ).count()\n",
        "                                                           .reset_index()\n",
        "                                                           .rename( columns={'stock_code': 'qtde_products'} ) )"
      ],
      "metadata": {
        "id": "UcyFcpIry0AU"
      },
      "execution_count": null,
      "outputs": []
    },
    {
      "cell_type": "code",
      "source": [
        "df_ref = pd.merge( df_ref, df_freq, on='customer_id', how='left' )\n",
        "df_ref.isna().sum()"
      ],
      "metadata": {
        "colab": {
          "base_uri": "https://localhost:8080/"
        },
        "id": "eifJRSWUy2oq",
        "outputId": "49046184-c5ab-4d7e-b2c4-b3dcd3cc0a52"
      },
      "execution_count": null,
      "outputs": [
        {
          "output_type": "execute_result",
          "data": {
            "text/plain": [
              "customer_id       0\n",
              "gross_revenue    27\n",
              "recency_days     27\n",
              "qtde_invoices    27\n",
              "qtde_items       27\n",
              "qtde_products    27\n",
              "dtype: int64"
            ]
          },
          "metadata": {},
          "execution_count": 43
        }
      ]
    },
    {
      "cell_type": "code",
      "source": [
        "# Avg Ticket\n",
        "df_avg_ticket = df2_purchases.loc[:, ['customer_id', 'gross_revenue']].groupby( 'customer_id' ).mean().reset_index().rename( columns={'gross_revenue':'avg_ticket'} )"
      ],
      "metadata": {
        "id": "JS1JKVnFy7gf"
      },
      "execution_count": null,
      "outputs": []
    },
    {
      "cell_type": "code",
      "source": [
        "df_ref = pd.merge( df_ref, df_avg_ticket, on='customer_id', how='left')\n",
        "df_ref.isna().sum()"
      ],
      "metadata": {
        "colab": {
          "base_uri": "https://localhost:8080/"
        },
        "id": "PR6oA6Ooy_ov",
        "outputId": "b1c2646c-0dbb-43dd-9de5-7a68288f13ad"
      },
      "execution_count": null,
      "outputs": [
        {
          "output_type": "execute_result",
          "data": {
            "text/plain": [
              "customer_id       0\n",
              "gross_revenue    27\n",
              "recency_days     27\n",
              "qtde_invoices    27\n",
              "qtde_items       27\n",
              "qtde_products    27\n",
              "avg_ticket       27\n",
              "dtype: int64"
            ]
          },
          "metadata": {},
          "execution_count": 45
        }
      ]
    },
    {
      "cell_type": "code",
      "source": [
        "# Average recency days\n",
        "df_aux = df2[['customer_id', 'invoice_date']].drop_duplicates().sort_values( ['customer_id', 'invoice_date'], ascending=['False', 'False'] )\n",
        "df_aux['next_customer_id'] = df_aux['customer_id'].shift() # next customer\n",
        "df_aux['previous_date'] = df_aux['invoice_date'].shift() # next invoince date\n"
      ],
      "metadata": {
        "id": "yowM9QsQzBwX"
      },
      "execution_count": null,
      "outputs": []
    },
    {
      "cell_type": "code",
      "source": [
        "df_aux['avg_recency_days'] = df_aux.apply( lambda x: ( x['invoice_date'] - x['previous_date'] ).days if x['customer_id'] == x['next_customer_id'] else np.nan, axis=1 )\n"
      ],
      "metadata": {
        "id": "vGVZ0blZzH0y"
      },
      "execution_count": null,
      "outputs": []
    },
    {
      "cell_type": "code",
      "source": [
        "df_aux.head()"
      ],
      "metadata": {
        "colab": {
          "base_uri": "https://localhost:8080/",
          "height": 206
        },
        "id": "jJVh7sigzYr2",
        "outputId": "0b61e44f-da2f-4f9e-dfc4-2cd2366e8f5f"
      },
      "execution_count": null,
      "outputs": [
        {
          "output_type": "execute_result",
          "data": {
            "text/plain": [
              "        customer_id invoice_date  next_customer_id previous_date  \\\n",
              "61619         12346   2017-01-16               NaN           NaT   \n",
              "14938         12347   2016-12-05           12346.0    2017-01-16   \n",
              "72246         12347   2017-01-24           12347.0    2016-12-05   \n",
              "148285        12347   2017-04-05           12347.0    2017-01-24   \n",
              "220572        12347   2017-06-07           12347.0    2017-04-05   \n",
              "\n",
              "        avg_recency_days  \n",
              "61619                NaN  \n",
              "14938                NaN  \n",
              "72246               50.0  \n",
              "148285              71.0  \n",
              "220572              63.0  "
            ],
            "text/html": [
              "\n",
              "  <div id=\"df-1fa1fea7-f3b4-4aad-8942-d2d3e678f6f1\">\n",
              "    <div class=\"colab-df-container\">\n",
              "      <div>\n",
              "<style scoped>\n",
              "    .dataframe tbody tr th:only-of-type {\n",
              "        vertical-align: middle;\n",
              "    }\n",
              "\n",
              "    .dataframe tbody tr th {\n",
              "        vertical-align: top;\n",
              "    }\n",
              "\n",
              "    .dataframe thead th {\n",
              "        text-align: right;\n",
              "    }\n",
              "</style>\n",
              "<table border=\"1\" class=\"dataframe\">\n",
              "  <thead>\n",
              "    <tr style=\"text-align: right;\">\n",
              "      <th></th>\n",
              "      <th>customer_id</th>\n",
              "      <th>invoice_date</th>\n",
              "      <th>next_customer_id</th>\n",
              "      <th>previous_date</th>\n",
              "      <th>avg_recency_days</th>\n",
              "    </tr>\n",
              "  </thead>\n",
              "  <tbody>\n",
              "    <tr>\n",
              "      <th>61619</th>\n",
              "      <td>12346</td>\n",
              "      <td>2017-01-16</td>\n",
              "      <td>NaN</td>\n",
              "      <td>NaT</td>\n",
              "      <td>NaN</td>\n",
              "    </tr>\n",
              "    <tr>\n",
              "      <th>14938</th>\n",
              "      <td>12347</td>\n",
              "      <td>2016-12-05</td>\n",
              "      <td>12346.0</td>\n",
              "      <td>2017-01-16</td>\n",
              "      <td>NaN</td>\n",
              "    </tr>\n",
              "    <tr>\n",
              "      <th>72246</th>\n",
              "      <td>12347</td>\n",
              "      <td>2017-01-24</td>\n",
              "      <td>12347.0</td>\n",
              "      <td>2016-12-05</td>\n",
              "      <td>50.0</td>\n",
              "    </tr>\n",
              "    <tr>\n",
              "      <th>148285</th>\n",
              "      <td>12347</td>\n",
              "      <td>2017-04-05</td>\n",
              "      <td>12347.0</td>\n",
              "      <td>2017-01-24</td>\n",
              "      <td>71.0</td>\n",
              "    </tr>\n",
              "    <tr>\n",
              "      <th>220572</th>\n",
              "      <td>12347</td>\n",
              "      <td>2017-06-07</td>\n",
              "      <td>12347.0</td>\n",
              "      <td>2017-04-05</td>\n",
              "      <td>63.0</td>\n",
              "    </tr>\n",
              "  </tbody>\n",
              "</table>\n",
              "</div>\n",
              "      <button class=\"colab-df-convert\" onclick=\"convertToInteractive('df-1fa1fea7-f3b4-4aad-8942-d2d3e678f6f1')\"\n",
              "              title=\"Convert this dataframe to an interactive table.\"\n",
              "              style=\"display:none;\">\n",
              "        \n",
              "  <svg xmlns=\"http://www.w3.org/2000/svg\" height=\"24px\"viewBox=\"0 0 24 24\"\n",
              "       width=\"24px\">\n",
              "    <path d=\"M0 0h24v24H0V0z\" fill=\"none\"/>\n",
              "    <path d=\"M18.56 5.44l.94 2.06.94-2.06 2.06-.94-2.06-.94-.94-2.06-.94 2.06-2.06.94zm-11 1L8.5 8.5l.94-2.06 2.06-.94-2.06-.94L8.5 2.5l-.94 2.06-2.06.94zm10 10l.94 2.06.94-2.06 2.06-.94-2.06-.94-.94-2.06-.94 2.06-2.06.94z\"/><path d=\"M17.41 7.96l-1.37-1.37c-.4-.4-.92-.59-1.43-.59-.52 0-1.04.2-1.43.59L10.3 9.45l-7.72 7.72c-.78.78-.78 2.05 0 2.83L4 21.41c.39.39.9.59 1.41.59.51 0 1.02-.2 1.41-.59l7.78-7.78 2.81-2.81c.8-.78.8-2.07 0-2.86zM5.41 20L4 18.59l7.72-7.72 1.47 1.35L5.41 20z\"/>\n",
              "  </svg>\n",
              "      </button>\n",
              "      \n",
              "  <style>\n",
              "    .colab-df-container {\n",
              "      display:flex;\n",
              "      flex-wrap:wrap;\n",
              "      gap: 12px;\n",
              "    }\n",
              "\n",
              "    .colab-df-convert {\n",
              "      background-color: #E8F0FE;\n",
              "      border: none;\n",
              "      border-radius: 50%;\n",
              "      cursor: pointer;\n",
              "      display: none;\n",
              "      fill: #1967D2;\n",
              "      height: 32px;\n",
              "      padding: 0 0 0 0;\n",
              "      width: 32px;\n",
              "    }\n",
              "\n",
              "    .colab-df-convert:hover {\n",
              "      background-color: #E2EBFA;\n",
              "      box-shadow: 0px 1px 2px rgba(60, 64, 67, 0.3), 0px 1px 3px 1px rgba(60, 64, 67, 0.15);\n",
              "      fill: #174EA6;\n",
              "    }\n",
              "\n",
              "    [theme=dark] .colab-df-convert {\n",
              "      background-color: #3B4455;\n",
              "      fill: #D2E3FC;\n",
              "    }\n",
              "\n",
              "    [theme=dark] .colab-df-convert:hover {\n",
              "      background-color: #434B5C;\n",
              "      box-shadow: 0px 1px 3px 1px rgba(0, 0, 0, 0.15);\n",
              "      filter: drop-shadow(0px 1px 2px rgba(0, 0, 0, 0.3));\n",
              "      fill: #FFFFFF;\n",
              "    }\n",
              "  </style>\n",
              "\n",
              "      <script>\n",
              "        const buttonEl =\n",
              "          document.querySelector('#df-1fa1fea7-f3b4-4aad-8942-d2d3e678f6f1 button.colab-df-convert');\n",
              "        buttonEl.style.display =\n",
              "          google.colab.kernel.accessAllowed ? 'block' : 'none';\n",
              "\n",
              "        async function convertToInteractive(key) {\n",
              "          const element = document.querySelector('#df-1fa1fea7-f3b4-4aad-8942-d2d3e678f6f1');\n",
              "          const dataTable =\n",
              "            await google.colab.kernel.invokeFunction('convertToInteractive',\n",
              "                                                     [key], {});\n",
              "          if (!dataTable) return;\n",
              "\n",
              "          const docLinkHtml = 'Like what you see? Visit the ' +\n",
              "            '<a target=\"_blank\" href=https://colab.research.google.com/notebooks/data_table.ipynb>data table notebook</a>'\n",
              "            + ' to learn more about interactive tables.';\n",
              "          element.innerHTML = '';\n",
              "          dataTable['output_type'] = 'display_data';\n",
              "          await google.colab.output.renderOutput(dataTable, element);\n",
              "          const docLink = document.createElement('div');\n",
              "          docLink.innerHTML = docLinkHtml;\n",
              "          element.appendChild(docLink);\n",
              "        }\n",
              "      </script>\n",
              "    </div>\n",
              "  </div>\n",
              "  "
            ]
          },
          "metadata": {},
          "execution_count": 48
        }
      ]
    },
    {
      "cell_type": "code",
      "source": [
        "df_aux = df_aux.drop( ['invoice_date', 'next_customer_id', 'previous_date'], axis=1 ).dropna()\n"
      ],
      "metadata": {
        "id": "cjxN6YSfzR5W"
      },
      "execution_count": null,
      "outputs": []
    },
    {
      "cell_type": "code",
      "source": [
        "# average recency \n",
        "df_avg_recency_days = df_aux.groupby( 'customer_id' ).mean().reset_index()"
      ],
      "metadata": {
        "id": "lAq1ePB1zUvo"
      },
      "execution_count": null,
      "outputs": []
    },
    {
      "cell_type": "code",
      "source": [
        "# merge\n",
        "df_ref = pd.merge( df_ref, df_avg_recency_days, on='customer_id', how='left' )\n",
        "df_ref.isna().sum()"
      ],
      "metadata": {
        "colab": {
          "base_uri": "https://localhost:8080/"
        },
        "id": "IEJeKF_8zlYB",
        "outputId": "9ef9062e-b0ef-42f0-a250-351d3c67adac"
      },
      "execution_count": null,
      "outputs": [
        {
          "output_type": "execute_result",
          "data": {
            "text/plain": [
              "customer_id            0\n",
              "gross_revenue         27\n",
              "recency_days          27\n",
              "qtde_invoices         27\n",
              "qtde_items            27\n",
              "qtde_products         27\n",
              "avg_ticket            27\n",
              "avg_recency_days    1387\n",
              "dtype: int64"
            ]
          },
          "metadata": {},
          "execution_count": 51
        }
      ]
    },
    {
      "cell_type": "code",
      "source": [
        "# purchase frequency\n",
        "df_aux = ( df2_purchases[['customer_id', 'invoice_num', 'invoice_date']].drop_duplicates()\n",
        "                                                             .groupby( 'customer_id')\n",
        "                                                             .agg( max_ = ( 'invoice_date', 'max' ), \n",
        "                                                                   min_ = ( 'invoice_date', 'min' ),\n",
        "                                                                   days_= ( 'invoice_date', lambda x: ( ( x.max() - x.min() ).days ) + 1 ),\n",
        "                                                                   buy_ = ( 'invoice_num', 'count' ) ) ).reset_index()"
      ],
      "metadata": {
        "id": "7RDnkOGXzoTl"
      },
      "execution_count": null,
      "outputs": []
    },
    {
      "cell_type": "code",
      "source": [
        "# Frequency\n",
        "df_aux['frequency'] = df_aux[['buy_', 'days_']].apply( lambda x: x['buy_'] / x['days_'] if  x['days_'] != 0 else 0, axis=1 )"
      ],
      "metadata": {
        "id": "xJhEBY6YztYp"
      },
      "execution_count": null,
      "outputs": []
    },
    {
      "cell_type": "code",
      "source": [
        "df_ref = pd.merge( df_ref, df_aux[['customer_id', 'frequency']], on='customer_id', how='left' )\n"
      ],
      "metadata": {
        "id": "helKwHx2zzXT"
      },
      "execution_count": null,
      "outputs": []
    },
    {
      "cell_type": "code",
      "source": [
        "df_ref.isna().sum()\n"
      ],
      "metadata": {
        "colab": {
          "base_uri": "https://localhost:8080/"
        },
        "id": "dMTmBVGQz1Nl",
        "outputId": "8b22968b-edff-419f-d5e0-e3c21b23c03e"
      },
      "execution_count": null,
      "outputs": [
        {
          "output_type": "execute_result",
          "data": {
            "text/plain": [
              "customer_id            0\n",
              "gross_revenue         27\n",
              "recency_days          27\n",
              "qtde_invoices         27\n",
              "qtde_items            27\n",
              "qtde_products         27\n",
              "avg_ticket            27\n",
              "avg_recency_days    1387\n",
              "frequency             27\n",
              "dtype: int64"
            ]
          },
          "metadata": {},
          "execution_count": 55
        }
      ]
    },
    {
      "cell_type": "code",
      "source": [
        "# number of returns\n",
        "df_returns = df2_returns[['customer_id', 'quantity']].groupby( 'customer_id' ).sum().reset_index().rename( columns={'quantity':'qtde_returns'} )\n",
        "df_returns['qtde_returns'] = df_returns['qtde_returns'] * -1"
      ],
      "metadata": {
        "id": "UgAsUliBz2dr"
      },
      "execution_count": null,
      "outputs": []
    },
    {
      "cell_type": "code",
      "source": [
        "df_ref = pd.merge( df_ref, df_returns, how='left', on='customer_id' )\n",
        "df_ref.loc[df_ref['qtde_returns'].isna(), 'qtde_returns'] = 0"
      ],
      "metadata": {
        "id": "rN0pvSBXz5Ga"
      },
      "execution_count": null,
      "outputs": []
    },
    {
      "cell_type": "code",
      "source": [
        "# basket size, being Invoice No = purchase, Stock Code = Product, and Quantity = Item\n",
        "df_aux = ( df2_purchases.loc[:, ['customer_id', 'invoice_num', 'quantity']].groupby( 'customer_id' )\n",
        "                                                                            .agg( n_purchase=( 'invoice_num', 'nunique'),\n",
        "                                                                                  n_products=( 'quantity', 'sum' ) )\n",
        "                                                                            .reset_index() )"
      ],
      "metadata": {
        "id": "3fUNHR2hz6na"
      },
      "execution_count": null,
      "outputs": []
    },
    {
      "cell_type": "code",
      "source": [
        "# calculation\n",
        "df_aux['avg_basket_size'] = df_aux['n_products'] / df_aux['n_purchase']"
      ],
      "metadata": {
        "id": "_Hozfaqwz_kc"
      },
      "execution_count": null,
      "outputs": []
    },
    {
      "cell_type": "code",
      "source": [
        "# merge\n",
        "df_ref = pd.merge( df_ref, df_aux[['customer_id', 'avg_basket_size']], how='left', on='customer_id' )\n",
        "df_ref.isna().sum()"
      ],
      "metadata": {
        "colab": {
          "base_uri": "https://localhost:8080/"
        },
        "id": "rRhIKeSu0Dvc",
        "outputId": "ae9de91c-06f6-4359-e352-963512d2c7fa"
      },
      "execution_count": null,
      "outputs": [
        {
          "output_type": "execute_result",
          "data": {
            "text/plain": [
              "customer_id            0\n",
              "gross_revenue         27\n",
              "recency_days          27\n",
              "qtde_invoices         27\n",
              "qtde_items            27\n",
              "qtde_products         27\n",
              "avg_ticket            27\n",
              "avg_recency_days    1387\n",
              "frequency             27\n",
              "qtde_returns           0\n",
              "avg_basket_size       27\n",
              "dtype: int64"
            ]
          },
          "metadata": {},
          "execution_count": 60
        }
      ]
    },
    {
      "cell_type": "code",
      "source": [
        "# unique basket size\n",
        "df_aux = ( df2_purchases.loc[:, ['customer_id', 'invoice_num', 'stock_code']].groupby( 'customer_id' )\n",
        "                                                                            .agg( n_purchase=( 'invoice_num', 'nunique'),\n",
        "                                                                                   n_products=( 'stock_code', 'nunique' ) )\n",
        "                                                                            .reset_index() )"
      ],
      "metadata": {
        "id": "H1n5zyzX0FnG"
      },
      "execution_count": null,
      "outputs": []
    },
    {
      "cell_type": "code",
      "source": [
        "# calculation\n",
        "df_aux['avg_unique_basket_size'] = df_aux['n_products'] / df_aux['n_purchase']"
      ],
      "metadata": {
        "id": "feG5YKLK0H3B"
      },
      "execution_count": null,
      "outputs": []
    },
    {
      "cell_type": "code",
      "source": [
        "# merge\n",
        "df_ref = pd.merge( df_ref, df_aux[['customer_id', 'avg_unique_basket_size']], how='left', on='customer_id' )\n",
        "df_ref.isna().sum()"
      ],
      "metadata": {
        "colab": {
          "base_uri": "https://localhost:8080/"
        },
        "id": "KlZJKdOP0NGj",
        "outputId": "9f440c30-a064-442a-f916-f2b61930dbb2"
      },
      "execution_count": null,
      "outputs": [
        {
          "output_type": "execute_result",
          "data": {
            "text/plain": [
              "customer_id                  0\n",
              "gross_revenue               27\n",
              "recency_days                27\n",
              "qtde_invoices               27\n",
              "qtde_items                  27\n",
              "qtde_products               27\n",
              "avg_ticket                  27\n",
              "avg_recency_days          1387\n",
              "frequency                   27\n",
              "qtde_returns                 0\n",
              "avg_basket_size             27\n",
              "avg_unique_basket_size      27\n",
              "dtype: int64"
            ]
          },
          "metadata": {},
          "execution_count": 63
        }
      ]
    },
    {
      "cell_type": "code",
      "source": [
        " df4 = df_ref.dropna()"
      ],
      "metadata": {
        "id": "qJGG1Y-80PeH"
      },
      "execution_count": null,
      "outputs": []
    },
    {
      "cell_type": "code",
      "source": [
        "df4.isna().sum()"
      ],
      "metadata": {
        "colab": {
          "base_uri": "https://localhost:8080/"
        },
        "id": "nT2XfhDs0TZl",
        "outputId": "54e404e5-ac56-4f9e-cc7a-87964103d13a"
      },
      "execution_count": null,
      "outputs": [
        {
          "output_type": "execute_result",
          "data": {
            "text/plain": [
              "customer_id               0\n",
              "gross_revenue             0\n",
              "recency_days              0\n",
              "qtde_invoices             0\n",
              "qtde_items                0\n",
              "qtde_products             0\n",
              "avg_ticket                0\n",
              "avg_recency_days          0\n",
              "frequency                 0\n",
              "qtde_returns              0\n",
              "avg_basket_size           0\n",
              "avg_unique_basket_size    0\n",
              "dtype: int64"
            ]
          },
          "metadata": {},
          "execution_count": 65
        }
      ]
    },
    {
      "cell_type": "code",
      "source": [
        "df42 = df4.drop('customer_id', axis=1)\n",
        "sns.pairplot(df42)"
      ],
      "metadata": {
        "id": "u7k85eKa0U9_"
      },
      "execution_count": null,
      "outputs": []
    },
    {
      "cell_type": "markdown",
      "source": [
        "Lets do some feature selection"
      ],
      "metadata": {
        "id": "ngand93nV_Vv"
      }
    },
    {
      "cell_type": "markdown",
      "source": [
        "gross_revenue - Amount contributed by customers\n",
        "\n",
        "recency_days- Recency days as described earlier defines purchase cycle period\n",
        "\n",
        "qtde_invoices -  It counts the total frequency of purchase\n",
        "\n",
        "qtde_items-   Count of total items\n",
        "\n",
        "qtde_products- Count of difrrent Products\n",
        "\n",
        "qtde_returns-  Count of no of returns made"
      ],
      "metadata": {
        "id": "fiP1lyrwWVpU"
      }
    },
    {
      "cell_type": "code",
      "source": [
        "cols_selected = ['gross_revenue', 'recency_days', 'qtde_invoices',\n",
        "                 'qtde_items', 'qtde_products', 'qtde_returns']\n",
        "df43 = df4[cols_selected].copy()"
      ],
      "metadata": {
        "id": "8S9jGUCI0Xow"
      },
      "execution_count": null,
      "outputs": []
    },
    {
      "cell_type": "code",
      "source": [
        "df4.head()"
      ],
      "metadata": {
        "colab": {
          "base_uri": "https://localhost:8080/",
          "height": 270
        },
        "id": "OJFRu0yR2Sd9",
        "outputId": "6ed5f3de-69b6-43d6-bf31-973c0428c54c"
      },
      "execution_count": null,
      "outputs": [
        {
          "output_type": "execute_result",
          "data": {
            "text/plain": [
              "   customer_id  gross_revenue  recency_days  qtde_invoices  qtde_items  \\\n",
              "0        17850        5391.21         372.0           34.0      1733.0   \n",
              "1        13047        3232.59          56.0            9.0      1390.0   \n",
              "2        12583        6705.38           2.0           15.0      5028.0   \n",
              "3        13748         948.25          95.0            5.0       439.0   \n",
              "4        15100         876.00         333.0            3.0        80.0   \n",
              "\n",
              "   qtde_products  avg_ticket  avg_recency_days  frequency  qtde_returns  \\\n",
              "0          297.0   18.152222         35.500000  17.000000          40.0   \n",
              "1          171.0   18.904035         27.250000   0.028302          35.0   \n",
              "2          232.0   28.902500         23.187500   0.040323          50.0   \n",
              "3           28.0   33.866071         92.666667   0.017921           0.0   \n",
              "4            3.0  292.000000          8.600000   0.073171          22.0   \n",
              "\n",
              "   avg_basket_size  avg_unique_basket_size  \n",
              "0        50.970588                0.617647  \n",
              "1       154.444444               11.666667  \n",
              "2       335.200000                7.600000  \n",
              "3        87.800000                4.800000  \n",
              "4        26.666667                0.333333  "
            ],
            "text/html": [
              "\n",
              "  <div id=\"df-7681484c-9bb1-4d3b-977f-6e323eadb11e\">\n",
              "    <div class=\"colab-df-container\">\n",
              "      <div>\n",
              "<style scoped>\n",
              "    .dataframe tbody tr th:only-of-type {\n",
              "        vertical-align: middle;\n",
              "    }\n",
              "\n",
              "    .dataframe tbody tr th {\n",
              "        vertical-align: top;\n",
              "    }\n",
              "\n",
              "    .dataframe thead th {\n",
              "        text-align: right;\n",
              "    }\n",
              "</style>\n",
              "<table border=\"1\" class=\"dataframe\">\n",
              "  <thead>\n",
              "    <tr style=\"text-align: right;\">\n",
              "      <th></th>\n",
              "      <th>customer_id</th>\n",
              "      <th>gross_revenue</th>\n",
              "      <th>recency_days</th>\n",
              "      <th>qtde_invoices</th>\n",
              "      <th>qtde_items</th>\n",
              "      <th>qtde_products</th>\n",
              "      <th>avg_ticket</th>\n",
              "      <th>avg_recency_days</th>\n",
              "      <th>frequency</th>\n",
              "      <th>qtde_returns</th>\n",
              "      <th>avg_basket_size</th>\n",
              "      <th>avg_unique_basket_size</th>\n",
              "    </tr>\n",
              "  </thead>\n",
              "  <tbody>\n",
              "    <tr>\n",
              "      <th>0</th>\n",
              "      <td>17850</td>\n",
              "      <td>5391.21</td>\n",
              "      <td>372.0</td>\n",
              "      <td>34.0</td>\n",
              "      <td>1733.0</td>\n",
              "      <td>297.0</td>\n",
              "      <td>18.152222</td>\n",
              "      <td>35.500000</td>\n",
              "      <td>17.000000</td>\n",
              "      <td>40.0</td>\n",
              "      <td>50.970588</td>\n",
              "      <td>0.617647</td>\n",
              "    </tr>\n",
              "    <tr>\n",
              "      <th>1</th>\n",
              "      <td>13047</td>\n",
              "      <td>3232.59</td>\n",
              "      <td>56.0</td>\n",
              "      <td>9.0</td>\n",
              "      <td>1390.0</td>\n",
              "      <td>171.0</td>\n",
              "      <td>18.904035</td>\n",
              "      <td>27.250000</td>\n",
              "      <td>0.028302</td>\n",
              "      <td>35.0</td>\n",
              "      <td>154.444444</td>\n",
              "      <td>11.666667</td>\n",
              "    </tr>\n",
              "    <tr>\n",
              "      <th>2</th>\n",
              "      <td>12583</td>\n",
              "      <td>6705.38</td>\n",
              "      <td>2.0</td>\n",
              "      <td>15.0</td>\n",
              "      <td>5028.0</td>\n",
              "      <td>232.0</td>\n",
              "      <td>28.902500</td>\n",
              "      <td>23.187500</td>\n",
              "      <td>0.040323</td>\n",
              "      <td>50.0</td>\n",
              "      <td>335.200000</td>\n",
              "      <td>7.600000</td>\n",
              "    </tr>\n",
              "    <tr>\n",
              "      <th>3</th>\n",
              "      <td>13748</td>\n",
              "      <td>948.25</td>\n",
              "      <td>95.0</td>\n",
              "      <td>5.0</td>\n",
              "      <td>439.0</td>\n",
              "      <td>28.0</td>\n",
              "      <td>33.866071</td>\n",
              "      <td>92.666667</td>\n",
              "      <td>0.017921</td>\n",
              "      <td>0.0</td>\n",
              "      <td>87.800000</td>\n",
              "      <td>4.800000</td>\n",
              "    </tr>\n",
              "    <tr>\n",
              "      <th>4</th>\n",
              "      <td>15100</td>\n",
              "      <td>876.00</td>\n",
              "      <td>333.0</td>\n",
              "      <td>3.0</td>\n",
              "      <td>80.0</td>\n",
              "      <td>3.0</td>\n",
              "      <td>292.000000</td>\n",
              "      <td>8.600000</td>\n",
              "      <td>0.073171</td>\n",
              "      <td>22.0</td>\n",
              "      <td>26.666667</td>\n",
              "      <td>0.333333</td>\n",
              "    </tr>\n",
              "  </tbody>\n",
              "</table>\n",
              "</div>\n",
              "      <button class=\"colab-df-convert\" onclick=\"convertToInteractive('df-7681484c-9bb1-4d3b-977f-6e323eadb11e')\"\n",
              "              title=\"Convert this dataframe to an interactive table.\"\n",
              "              style=\"display:none;\">\n",
              "        \n",
              "  <svg xmlns=\"http://www.w3.org/2000/svg\" height=\"24px\"viewBox=\"0 0 24 24\"\n",
              "       width=\"24px\">\n",
              "    <path d=\"M0 0h24v24H0V0z\" fill=\"none\"/>\n",
              "    <path d=\"M18.56 5.44l.94 2.06.94-2.06 2.06-.94-2.06-.94-.94-2.06-.94 2.06-2.06.94zm-11 1L8.5 8.5l.94-2.06 2.06-.94-2.06-.94L8.5 2.5l-.94 2.06-2.06.94zm10 10l.94 2.06.94-2.06 2.06-.94-2.06-.94-.94-2.06-.94 2.06-2.06.94z\"/><path d=\"M17.41 7.96l-1.37-1.37c-.4-.4-.92-.59-1.43-.59-.52 0-1.04.2-1.43.59L10.3 9.45l-7.72 7.72c-.78.78-.78 2.05 0 2.83L4 21.41c.39.39.9.59 1.41.59.51 0 1.02-.2 1.41-.59l7.78-7.78 2.81-2.81c.8-.78.8-2.07 0-2.86zM5.41 20L4 18.59l7.72-7.72 1.47 1.35L5.41 20z\"/>\n",
              "  </svg>\n",
              "      </button>\n",
              "      \n",
              "  <style>\n",
              "    .colab-df-container {\n",
              "      display:flex;\n",
              "      flex-wrap:wrap;\n",
              "      gap: 12px;\n",
              "    }\n",
              "\n",
              "    .colab-df-convert {\n",
              "      background-color: #E8F0FE;\n",
              "      border: none;\n",
              "      border-radius: 50%;\n",
              "      cursor: pointer;\n",
              "      display: none;\n",
              "      fill: #1967D2;\n",
              "      height: 32px;\n",
              "      padding: 0 0 0 0;\n",
              "      width: 32px;\n",
              "    }\n",
              "\n",
              "    .colab-df-convert:hover {\n",
              "      background-color: #E2EBFA;\n",
              "      box-shadow: 0px 1px 2px rgba(60, 64, 67, 0.3), 0px 1px 3px 1px rgba(60, 64, 67, 0.15);\n",
              "      fill: #174EA6;\n",
              "    }\n",
              "\n",
              "    [theme=dark] .colab-df-convert {\n",
              "      background-color: #3B4455;\n",
              "      fill: #D2E3FC;\n",
              "    }\n",
              "\n",
              "    [theme=dark] .colab-df-convert:hover {\n",
              "      background-color: #434B5C;\n",
              "      box-shadow: 0px 1px 3px 1px rgba(0, 0, 0, 0.15);\n",
              "      filter: drop-shadow(0px 1px 2px rgba(0, 0, 0, 0.3));\n",
              "      fill: #FFFFFF;\n",
              "    }\n",
              "  </style>\n",
              "\n",
              "      <script>\n",
              "        const buttonEl =\n",
              "          document.querySelector('#df-7681484c-9bb1-4d3b-977f-6e323eadb11e button.colab-df-convert');\n",
              "        buttonEl.style.display =\n",
              "          google.colab.kernel.accessAllowed ? 'block' : 'none';\n",
              "\n",
              "        async function convertToInteractive(key) {\n",
              "          const element = document.querySelector('#df-7681484c-9bb1-4d3b-977f-6e323eadb11e');\n",
              "          const dataTable =\n",
              "            await google.colab.kernel.invokeFunction('convertToInteractive',\n",
              "                                                     [key], {});\n",
              "          if (!dataTable) return;\n",
              "\n",
              "          const docLinkHtml = 'Like what you see? Visit the ' +\n",
              "            '<a target=\"_blank\" href=https://colab.research.google.com/notebooks/data_table.ipynb>data table notebook</a>'\n",
              "            + ' to learn more about interactive tables.';\n",
              "          element.innerHTML = '';\n",
              "          dataTable['output_type'] = 'display_data';\n",
              "          await google.colab.output.renderOutput(dataTable, element);\n",
              "          const docLink = document.createElement('div');\n",
              "          docLink.innerHTML = docLinkHtml;\n",
              "          element.appendChild(docLink);\n",
              "        }\n",
              "      </script>\n",
              "    </div>\n",
              "  </div>\n",
              "  "
            ]
          },
          "metadata": {},
          "execution_count": 68
        }
      ]
    },
    {
      "cell_type": "code",
      "source": [
        "\n",
        "from sklearn import preprocessing as pp"
      ],
      "metadata": {
        "id": "q6cpBAEe4T1-"
      },
      "execution_count": null,
      "outputs": []
    },
    {
      "cell_type": "code",
      "source": [
        "# preprocessing\n",
        "mm = pp.MinMaxScaler()"
      ],
      "metadata": {
        "id": "DwTrZZWq0cXe"
      },
      "execution_count": null,
      "outputs": []
    },
    {
      "cell_type": "code",
      "source": [
        "df43['gross_revenue'] = mm.fit_transform(df43[['gross_revenue']])\n",
        "df43['recency_days'] = mm.fit_transform(df43[['recency_days']])\n",
        "df43['qtde_invoices'] = mm.fit_transform(df43[['qtde_invoices']])\n",
        "df43['qtde_items'] = mm.fit_transform(df43[['qtde_items']])\n",
        "df43['qtde_products'] = mm.fit_transform(df43[['qtde_products']])\n",
        "# df43['avg_ticket'] = mm.fit_transform(df43[['avg_ticket']])\n",
        "# df43['avg_recency_days'] = mm.fit_transform(df43[['avg_recency_days']])\n",
        "# df43['frequency'] = mm.fit_transform(df43[['frequency']])\n",
        "df43['qtde_returns'] = mm.fit_transform(df43[['qtde_returns']])\n",
        "# df43['avg_basket_size'] = mm.fit_transform(df43[['avg_basket_size']])\n",
        "# df43['avg_unique_basket_size'] = mm.fit_transform(df43[['avg_unique_basket_size']])"
      ],
      "metadata": {
        "id": "FWN67wnE0jEF"
      },
      "execution_count": null,
      "outputs": []
    },
    {
      "cell_type": "code",
      "source": [
        "X = df43.copy()"
      ],
      "metadata": {
        "id": "bgw6-By-0mAt"
      },
      "execution_count": null,
      "outputs": []
    },
    {
      "cell_type": "code",
      "source": [
        "X.head()"
      ],
      "metadata": {
        "colab": {
          "base_uri": "https://localhost:8080/",
          "height": 206
        },
        "id": "GbfZOXQN4Wbx",
        "outputId": "6425caf9-cddc-4cfe-c828-1edf9dac54dd"
      },
      "execution_count": null,
      "outputs": [
        {
          "output_type": "execute_result",
          "data": {
            "text/plain": [
              "   gross_revenue  recency_days  qtde_invoices  qtde_items  qtde_products  \\\n",
              "0       0.019292      0.997319       0.160976    0.008799       0.037770   \n",
              "1       0.011559      0.150134       0.039024    0.007056       0.021692   \n",
              "2       0.024000      0.005362       0.068293    0.025538       0.029476   \n",
              "3       0.003375      0.254692       0.019512    0.002225       0.003445   \n",
              "4       0.003116      0.892761       0.009756    0.000401       0.000255   \n",
              "\n",
              "   qtde_returns  \n",
              "0      0.004438  \n",
              "1      0.003883  \n",
              "2      0.005547  \n",
              "3      0.000000  \n",
              "4      0.002441  "
            ],
            "text/html": [
              "\n",
              "  <div id=\"df-9d62c758-f3a2-40e5-90b6-d54ef57e9100\">\n",
              "    <div class=\"colab-df-container\">\n",
              "      <div>\n",
              "<style scoped>\n",
              "    .dataframe tbody tr th:only-of-type {\n",
              "        vertical-align: middle;\n",
              "    }\n",
              "\n",
              "    .dataframe tbody tr th {\n",
              "        vertical-align: top;\n",
              "    }\n",
              "\n",
              "    .dataframe thead th {\n",
              "        text-align: right;\n",
              "    }\n",
              "</style>\n",
              "<table border=\"1\" class=\"dataframe\">\n",
              "  <thead>\n",
              "    <tr style=\"text-align: right;\">\n",
              "      <th></th>\n",
              "      <th>gross_revenue</th>\n",
              "      <th>recency_days</th>\n",
              "      <th>qtde_invoices</th>\n",
              "      <th>qtde_items</th>\n",
              "      <th>qtde_products</th>\n",
              "      <th>qtde_returns</th>\n",
              "    </tr>\n",
              "  </thead>\n",
              "  <tbody>\n",
              "    <tr>\n",
              "      <th>0</th>\n",
              "      <td>0.019292</td>\n",
              "      <td>0.997319</td>\n",
              "      <td>0.160976</td>\n",
              "      <td>0.008799</td>\n",
              "      <td>0.037770</td>\n",
              "      <td>0.004438</td>\n",
              "    </tr>\n",
              "    <tr>\n",
              "      <th>1</th>\n",
              "      <td>0.011559</td>\n",
              "      <td>0.150134</td>\n",
              "      <td>0.039024</td>\n",
              "      <td>0.007056</td>\n",
              "      <td>0.021692</td>\n",
              "      <td>0.003883</td>\n",
              "    </tr>\n",
              "    <tr>\n",
              "      <th>2</th>\n",
              "      <td>0.024000</td>\n",
              "      <td>0.005362</td>\n",
              "      <td>0.068293</td>\n",
              "      <td>0.025538</td>\n",
              "      <td>0.029476</td>\n",
              "      <td>0.005547</td>\n",
              "    </tr>\n",
              "    <tr>\n",
              "      <th>3</th>\n",
              "      <td>0.003375</td>\n",
              "      <td>0.254692</td>\n",
              "      <td>0.019512</td>\n",
              "      <td>0.002225</td>\n",
              "      <td>0.003445</td>\n",
              "      <td>0.000000</td>\n",
              "    </tr>\n",
              "    <tr>\n",
              "      <th>4</th>\n",
              "      <td>0.003116</td>\n",
              "      <td>0.892761</td>\n",
              "      <td>0.009756</td>\n",
              "      <td>0.000401</td>\n",
              "      <td>0.000255</td>\n",
              "      <td>0.002441</td>\n",
              "    </tr>\n",
              "  </tbody>\n",
              "</table>\n",
              "</div>\n",
              "      <button class=\"colab-df-convert\" onclick=\"convertToInteractive('df-9d62c758-f3a2-40e5-90b6-d54ef57e9100')\"\n",
              "              title=\"Convert this dataframe to an interactive table.\"\n",
              "              style=\"display:none;\">\n",
              "        \n",
              "  <svg xmlns=\"http://www.w3.org/2000/svg\" height=\"24px\"viewBox=\"0 0 24 24\"\n",
              "       width=\"24px\">\n",
              "    <path d=\"M0 0h24v24H0V0z\" fill=\"none\"/>\n",
              "    <path d=\"M18.56 5.44l.94 2.06.94-2.06 2.06-.94-2.06-.94-.94-2.06-.94 2.06-2.06.94zm-11 1L8.5 8.5l.94-2.06 2.06-.94-2.06-.94L8.5 2.5l-.94 2.06-2.06.94zm10 10l.94 2.06.94-2.06 2.06-.94-2.06-.94-.94-2.06-.94 2.06-2.06.94z\"/><path d=\"M17.41 7.96l-1.37-1.37c-.4-.4-.92-.59-1.43-.59-.52 0-1.04.2-1.43.59L10.3 9.45l-7.72 7.72c-.78.78-.78 2.05 0 2.83L4 21.41c.39.39.9.59 1.41.59.51 0 1.02-.2 1.41-.59l7.78-7.78 2.81-2.81c.8-.78.8-2.07 0-2.86zM5.41 20L4 18.59l7.72-7.72 1.47 1.35L5.41 20z\"/>\n",
              "  </svg>\n",
              "      </button>\n",
              "      \n",
              "  <style>\n",
              "    .colab-df-container {\n",
              "      display:flex;\n",
              "      flex-wrap:wrap;\n",
              "      gap: 12px;\n",
              "    }\n",
              "\n",
              "    .colab-df-convert {\n",
              "      background-color: #E8F0FE;\n",
              "      border: none;\n",
              "      border-radius: 50%;\n",
              "      cursor: pointer;\n",
              "      display: none;\n",
              "      fill: #1967D2;\n",
              "      height: 32px;\n",
              "      padding: 0 0 0 0;\n",
              "      width: 32px;\n",
              "    }\n",
              "\n",
              "    .colab-df-convert:hover {\n",
              "      background-color: #E2EBFA;\n",
              "      box-shadow: 0px 1px 2px rgba(60, 64, 67, 0.3), 0px 1px 3px 1px rgba(60, 64, 67, 0.15);\n",
              "      fill: #174EA6;\n",
              "    }\n",
              "\n",
              "    [theme=dark] .colab-df-convert {\n",
              "      background-color: #3B4455;\n",
              "      fill: #D2E3FC;\n",
              "    }\n",
              "\n",
              "    [theme=dark] .colab-df-convert:hover {\n",
              "      background-color: #434B5C;\n",
              "      box-shadow: 0px 1px 3px 1px rgba(0, 0, 0, 0.15);\n",
              "      filter: drop-shadow(0px 1px 2px rgba(0, 0, 0, 0.3));\n",
              "      fill: #FFFFFF;\n",
              "    }\n",
              "  </style>\n",
              "\n",
              "      <script>\n",
              "        const buttonEl =\n",
              "          document.querySelector('#df-9d62c758-f3a2-40e5-90b6-d54ef57e9100 button.colab-df-convert');\n",
              "        buttonEl.style.display =\n",
              "          google.colab.kernel.accessAllowed ? 'block' : 'none';\n",
              "\n",
              "        async function convertToInteractive(key) {\n",
              "          const element = document.querySelector('#df-9d62c758-f3a2-40e5-90b6-d54ef57e9100');\n",
              "          const dataTable =\n",
              "            await google.colab.kernel.invokeFunction('convertToInteractive',\n",
              "                                                     [key], {});\n",
              "          if (!dataTable) return;\n",
              "\n",
              "          const docLinkHtml = 'Like what you see? Visit the ' +\n",
              "            '<a target=\"_blank\" href=https://colab.research.google.com/notebooks/data_table.ipynb>data table notebook</a>'\n",
              "            + ' to learn more about interactive tables.';\n",
              "          element.innerHTML = '';\n",
              "          dataTable['output_type'] = 'display_data';\n",
              "          await google.colab.output.renderOutput(dataTable, element);\n",
              "          const docLink = document.createElement('div');\n",
              "          docLink.innerHTML = docLinkHtml;\n",
              "          element.appendChild(docLink);\n",
              "        }\n",
              "      </script>\n",
              "    </div>\n",
              "  </div>\n",
              "  "
            ]
          },
          "metadata": {},
          "execution_count": 75
        }
      ]
    },
    {
      "cell_type": "markdown",
      "source": [
        "***PCA  Principal Component Analysis***"
      ],
      "metadata": {
        "id": "Bf_W4zCR6v6p"
      }
    },
    {
      "cell_type": "markdown",
      "source": [
        "What is PCA?\n",
        "\n",
        "\n",
        "Principal Component Analysis, or PCA, is a dimensionality-reduction method that is often used to reduce the dimensionality of large data sets, by transforming a large set of variables into a smaller one that still contains most of the information in the large set.\n",
        "Reducing the number of variables of a data set naturally comes at the expense of accuracy, but the trick in dimensionality reduction is to trade a little accuracy for simplicity. Because smaller data sets are easier to explore and visualize and make analyzing data much easier and faster for machine learning algorithms without extraneous variables to process.\n",
        "  So to sum up, the idea of PCA is simple — reduce the number of variables of a data set, while preserving as much information as possible."
      ],
      "metadata": {
        "id": "Uc1qHcNyBKys"
      }
    },
    {
      "cell_type": "code",
      "source": [
        "#pca package drom sklearn\n",
        "from sklearn.decomposition import PCA\n"
      ],
      "metadata": {
        "id": "HnSB3jUz4Xor"
      },
      "execution_count": null,
      "outputs": []
    },
    {
      "cell_type": "code",
      "source": [
        "pca = PCA(n_components=2)\n"
      ],
      "metadata": {
        "id": "EPHQboQN60aJ"
      },
      "execution_count": null,
      "outputs": []
    },
    {
      "cell_type": "markdown",
      "source": [
        "It will break all the features in two features"
      ],
      "metadata": {
        "id": "vvK9u0VtBPyr"
      }
    },
    {
      "cell_type": "code",
      "source": [
        "pca.fit(X)\n"
      ],
      "metadata": {
        "colab": {
          "base_uri": "https://localhost:8080/"
        },
        "id": "7R3pDKF662s0",
        "outputId": "6b16dd7d-8f67-475b-912b-d5e846373d5b"
      },
      "execution_count": null,
      "outputs": [
        {
          "output_type": "execute_result",
          "data": {
            "text/plain": [
              "PCA(n_components=2)"
            ]
          },
          "metadata": {},
          "execution_count": 78
        }
      ]
    },
    {
      "cell_type": "markdown",
      "source": [
        "Principal components are new variables that are constructed as linear combinations or mixtures of the initial variables. These combinations are done in such a way that the new variables (i.e., principal components) are uncorrelated and most of the information within the initial variables is squeezed or compressed into the first components. Here we have reduced our variables to two principal componets where we would prokect our data points"
      ],
      "metadata": {
        "id": "lXs8bhCd3nop"
      }
    },
    {
      "cell_type": "code",
      "source": [
        "x_pca = pca.transform(X)\n"
      ],
      "metadata": {
        "id": "kjy8ik8Q67Kl"
      },
      "execution_count": null,
      "outputs": []
    },
    {
      "cell_type": "markdown",
      "source": [
        "Now we can transform this data to its first 2 principal components.\n",
        "\n"
      ],
      "metadata": {
        "id": "aLeBDqhD6_sk"
      }
    },
    {
      "cell_type": "code",
      "source": [
        "x_pca.shape\n"
      ],
      "metadata": {
        "colab": {
          "base_uri": "https://localhost:8080/"
        },
        "id": "P-W75TTC7Cuj",
        "outputId": "e8b3950a-f8da-4eca-cd03-7e03a496f899"
      },
      "execution_count": null,
      "outputs": [
        {
          "output_type": "execute_result",
          "data": {
            "text/plain": [
              "(2972, 2)"
            ]
          },
          "metadata": {},
          "execution_count": 83
        }
      ]
    },
    {
      "cell_type": "markdown",
      "source": [
        "Hurray! We can see that our features have been reduced to two features"
      ],
      "metadata": {
        "id": "LjrkXFOJ5FV2"
      }
    },
    {
      "cell_type": "code",
      "source": [
        "X.shape"
      ],
      "metadata": {
        "id": "u6WLI6MK7J1m"
      },
      "execution_count": null,
      "outputs": []
    },
    {
      "cell_type": "code",
      "source": [
        "from pandas.plotting import scatter_matrix\n",
        "from sklearn.preprocessing import MinMaxScaler\n",
        "from matplotlib import rcParams\n",
        "import matplotlib.pyplot as plt\n",
        "from mpl_toolkits.mplot3d import Axes3D\n",
        "from yellowbrick.cluster import KElbowVisualizer\n",
        "from sklearn.mixture import GaussianMixture\n",
        "from sklearn.cluster import KMeans"
      ],
      "metadata": {
        "id": "X1aeFdc-7Ljt"
      },
      "execution_count": null,
      "outputs": []
    },
    {
      "cell_type": "code",
      "source": [
        "\n",
        "# Elbow Method for K means\n",
        "# Import ElbowVisualizer\n",
        "from yellowbrick.cluster import KElbowVisualizer\n",
        "model = KMeans()\n",
        "# k is range of number of clusters.\n",
        "visualizer = KElbowVisualizer(model, k=(1,11), timings= False)\n",
        "visualizer.fit(x_pca)        # Fit data to visualizer\n",
        "visualizer.show()    "
      ],
      "metadata": {
        "colab": {
          "base_uri": "https://localhost:8080/",
          "height": 393
        },
        "id": "4sAIV9vt7XAU",
        "outputId": "adee89f1-7491-46d2-ecc6-be995dbd6a20"
      },
      "execution_count": null,
      "outputs": [
        {
          "output_type": "display_data",
          "data": {
            "text/plain": [
              "<Figure size 576x396 with 1 Axes>"
            ],
            "image/png": "[encoded data removed]"
          },
          "metadata": {}
        },
        {
          "output_type": "execute_result",
          "data": {
            "text/plain": [
              "<matplotlib.axes._subplots.AxesSubplot at 0x7ffa6b35de10>"
            ]
          },
          "metadata": {},
          "execution_count": 87
        }
      ]
    },
    {
      "cell_type": "code",
      "source": [
        "# Silhouette Score for K means\n",
        "# Import ElbowVisualizer\n",
        "from yellowbrick.cluster import KElbowVisualizer\n",
        "model = KMeans()\n",
        "# k is range of number of clusters.\n",
        "visualizer = KElbowVisualizer(model, k=(2,20),metric='silhouette', timings= False)\n",
        "visualizer.fit(x_pca)        # Fit the data to the visualizer\n",
        "visualizer.show()        # Finalize and render the figure"
      ],
      "metadata": {
        "colab": {
          "base_uri": "https://localhost:8080/",
          "height": 393
        },
        "id": "CBLeZECW70Ww",
        "outputId": "05cc48e2-7e5e-460e-82aa-0e4609217cdb"
      },
      "execution_count": null,
      "outputs": [
        {
          "output_type": "display_data",
          "data": {
            "text/plain": [
              "<Figure size 576x396 with 1 Axes>"
            ],
            "image/png": "[encoded data removed]"
          },
          "metadata": {}
        },
        {
          "output_type": "execute_result",
          "data": {
            "text/plain": [
              "<matplotlib.axes._subplots.AxesSubplot at 0x7ffa64c72150>"
            ]
          },
          "metadata": {},
          "execution_count": 89
        }
      ]
    },
    {
      "cell_type": "code",
      "source": [
        "km = KMeans(n_clusters=3)\n",
        "y_pre \n",
        "X['clusters']= y_predicted\n",
        "X"
      ],
      "metadata": {
        "colab": {
          "base_uri": "https://localhost:8080/",
          "height": 424
        },
        "id": "e3t6VQSS75kx",
        "outputId": "24efe90a-076f-461c-d041-e5728f768439"
      },
      "execution_count": null,
      "outputs": [
        {
          "output_type": "execute_result",
          "data": {
            "text/plain": [
              "      gross_revenue  recency_days  qtde_invoices  qtde_items  qtde_products  \\\n",
              "0          0.019292      0.997319       0.160976    0.008799       0.037770   \n",
              "1          0.011559      0.150134       0.039024    0.007056       0.021692   \n",
              "2          0.024000      0.005362       0.068293    0.025538       0.029476   \n",
              "3          0.003375      0.254692       0.019512    0.002225       0.003445   \n",
              "4          0.003116      0.892761       0.009756    0.000401       0.000255   \n",
              "...             ...           ...            ...         ...            ...   \n",
              "4294       0.001673      0.029491       0.000000    0.001936       0.003700   \n",
              "4309       0.002508      0.018767       0.009756    0.002576       0.001786   \n",
              "4313       0.003891      0.002681       0.009756    0.003719       0.055378   \n",
              "4318       0.001059      0.021448       0.014634    0.001326       0.015184   \n",
              "4323       0.000945      0.018767       0.000000    0.000991       0.001276   \n",
              "\n",
              "      qtde_returns  clusters  \n",
              "0         0.004438         1  \n",
              "1         0.003883         0  \n",
              "2         0.005547         0  \n",
              "3         0.000000         2  \n",
              "4         0.002441         1  \n",
              "...            ...       ...  \n",
              "4294      0.003772         0  \n",
              "4309      0.005547         0  \n",
              "4313      0.000000         0  \n",
              "4318      0.000000         0  \n",
              "4323      0.021744         0  \n",
              "\n",
              "[2972 rows x 7 columns]"
            ],
            "text/html": [
              "\n",
              "  <div id=\"df-78df5850-a1c2-4bd2-b170-24bfaa89af2f\">\n",
              "    <div class=\"colab-df-container\">\n",
              "      <div>\n",
              "<style scoped>\n",
              "    .dataframe tbody tr th:only-of-type {\n",
              "        vertical-align: middle;\n",
              "    }\n",
              "\n",
              "    .dataframe tbody tr th {\n",
              "        vertical-align: top;\n",
              "    }\n",
              "\n",
              "    .dataframe thead th {\n",
              "        text-align: right;\n",
              "    }\n",
              "</style>\n",
              "<table border=\"1\" class=\"dataframe\">\n",
              "  <thead>\n",
              "    <tr style=\"text-align: right;\">\n",
              "      <th></th>\n",
              "      <th>gross_revenue</th>\n",
              "      <th>recency_days</th>\n",
              "      <th>qtde_invoices</th>\n",
              "      <th>qtde_items</th>\n",
              "      <th>qtde_products</th>\n",
              "      <th>qtde_returns</th>\n",
              "      <th>clusters</th>\n",
              "    </tr>\n",
              "  </thead>\n",
              "  <tbody>\n",
              "    <tr>\n",
              "      <th>0</th>\n",
              "      <td>0.019292</td>\n",
              "      <td>0.997319</td>\n",
              "      <td>0.160976</td>\n",
              "      <td>0.008799</td>\n",
              "      <td>0.037770</td>\n",
              "      <td>0.004438</td>\n",
              "      <td>1</td>\n",
              "    </tr>\n",
              "    <tr>\n",
              "      <th>1</th>\n",
              "      <td>0.011559</td>\n",
              "      <td>0.150134</td>\n",
              "      <td>0.039024</td>\n",
              "      <td>0.007056</td>\n",
              "      <td>0.021692</td>\n",
              "      <td>0.003883</td>\n",
              "      <td>0</td>\n",
              "    </tr>\n",
              "    <tr>\n",
              "      <th>2</th>\n",
              "      <td>0.024000</td>\n",
              "      <td>0.005362</td>\n",
              "      <td>0.068293</td>\n",
              "      <td>0.025538</td>\n",
              "      <td>0.029476</td>\n",
              "      <td>0.005547</td>\n",
              "      <td>0</td>\n",
              "    </tr>\n",
              "    <tr>\n",
              "      <th>3</th>\n",
              "      <td>0.003375</td>\n",
              "      <td>0.254692</td>\n",
              "      <td>0.019512</td>\n",
              "      <td>0.002225</td>\n",
              "      <td>0.003445</td>\n",
              "      <td>0.000000</td>\n",
              "      <td>2</td>\n",
              "    </tr>\n",
              "    <tr>\n",
              "      <th>4</th>\n",
              "      <td>0.003116</td>\n",
              "      <td>0.892761</td>\n",
              "      <td>0.009756</td>\n",
              "      <td>0.000401</td>\n",
              "      <td>0.000255</td>\n",
              "      <td>0.002441</td>\n",
              "      <td>1</td>\n",
              "    </tr>\n",
              "    <tr>\n",
              "      <th>...</th>\n",
              "      <td>...</td>\n",
              "      <td>...</td>\n",
              "      <td>...</td>\n",
              "      <td>...</td>\n",
              "      <td>...</td>\n",
              "      <td>...</td>\n",
              "      <td>...</td>\n",
              "    </tr>\n",
              "    <tr>\n",
              "      <th>4294</th>\n",
              "      <td>0.001673</td>\n",
              "      <td>0.029491</td>\n",
              "      <td>0.000000</td>\n",
              "      <td>0.001936</td>\n",
              "      <td>0.003700</td>\n",
              "      <td>0.003772</td>\n",
              "      <td>0</td>\n",
              "    </tr>\n",
              "    <tr>\n",
              "      <th>4309</th>\n",
              "      <td>0.002508</td>\n",
              "      <td>0.018767</td>\n",
              "      <td>0.009756</td>\n",
              "      <td>0.002576</td>\n",
              "      <td>0.001786</td>\n",
              "      <td>0.005547</td>\n",
              "      <td>0</td>\n",
              "    </tr>\n",
              "    <tr>\n",
              "      <th>4313</th>\n",
              "      <td>0.003891</td>\n",
              "      <td>0.002681</td>\n",
              "      <td>0.009756</td>\n",
              "      <td>0.003719</td>\n",
              "      <td>0.055378</td>\n",
              "      <td>0.000000</td>\n",
              "      <td>0</td>\n",
              "    </tr>\n",
              "    <tr>\n",
              "      <th>4318</th>\n",
              "      <td>0.001059</td>\n",
              "      <td>0.021448</td>\n",
              "      <td>0.014634</td>\n",
              "      <td>0.001326</td>\n",
              "      <td>0.015184</td>\n",
              "      <td>0.000000</td>\n",
              "      <td>0</td>\n",
              "    </tr>\n",
              "    <tr>\n",
              "      <th>4323</th>\n",
              "      <td>0.000945</td>\n",
              "      <td>0.018767</td>\n",
              "      <td>0.000000</td>\n",
              "      <td>0.000991</td>\n",
              "      <td>0.001276</td>\n",
              "      <td>0.021744</td>\n",
              "      <td>0</td>\n",
              "    </tr>\n",
              "  </tbody>\n",
              "</table>\n",
              "<p>2972 rows × 7 columns</p>\n",
              "</div>\n",
              "      <button class=\"colab-df-convert\" onclick=\"convertToInteractive('df-78df5850-a1c2-4bd2-b170-24bfaa89af2f')\"\n",
              "              title=\"Convert this dataframe to an interactive table.\"\n",
              "              style=\"display:none;\">\n",
              "        \n",
              "  <svg xmlns=\"http://www.w3.org/2000/svg\" height=\"24px\"viewBox=\"0 0 24 24\"\n",
              "       width=\"24px\">\n",
              "    <path d=\"M0 0h24v24H0V0z\" fill=\"none\"/>\n",
              "    <path d=\"M18.56 5.44l.94 2.06.94-2.06 2.06-.94-2.06-.94-.94-2.06-.94 2.06-2.06.94zm-11 1L8.5 8.5l.94-2.06 2.06-.94-2.06-.94L8.5 2.5l-.94 2.06-2.06.94zm10 10l.94 2.06.94-2.06 2.06-.94-2.06-.94-.94-2.06-.94 2.06-2.06.94z\"/><path d=\"M17.41 7.96l-1.37-1.37c-.4-.4-.92-.59-1.43-.59-.52 0-1.04.2-1.43.59L10.3 9.45l-7.72 7.72c-.78.78-.78 2.05 0 2.83L4 21.41c.39.39.9.59 1.41.59.51 0 1.02-.2 1.41-.59l7.78-7.78 2.81-2.81c.8-.78.8-2.07 0-2.86zM5.41 20L4 18.59l7.72-7.72 1.47 1.35L5.41 20z\"/>\n",
              "  </svg>\n",
              "      </button>\n",
              "      \n",
              "  <style>\n",
              "    .colab-df-container {\n",
              "      display:flex;\n",
              "      flex-wrap:wrap;\n",
              "      gap: 12px;\n",
              "    }\n",
              "\n",
              "    .colab-df-convert {\n",
              "      background-color: #E8F0FE;\n",
              "      border: none;\n",
              "      border-radius: 50%;\n",
              "      cursor: pointer;\n",
              "      display: none;\n",
              "      fill: #1967D2;\n",
              "      height: 32px;\n",
              "      padding: 0 0 0 0;\n",
              "      width: 32px;\n",
              "    }\n",
              "\n",
              "    .colab-df-convert:hover {\n",
              "      background-color: #E2EBFA;\n",
              "      box-shadow: 0px 1px 2px rgba(60, 64, 67, 0.3), 0px 1px 3px 1px rgba(60, 64, 67, 0.15);\n",
              "      fill: #174EA6;\n",
              "    }\n",
              "\n",
              "    [theme=dark] .colab-df-convert {\n",
              "      background-color: #3B4455;\n",
              "      fill: #D2E3FC;\n",
              "    }\n",
              "\n",
              "    [theme=dark] .colab-df-convert:hover {\n",
              "      background-color: #434B5C;\n",
              "      box-shadow: 0px 1px 3px 1px rgba(0, 0, 0, 0.15);\n",
              "      filter: drop-shadow(0px 1px 2px rgba(0, 0, 0, 0.3));\n",
              "      fill: #FFFFFF;\n",
              "    }\n",
              "  </style>\n",
              "\n",
              "      <script>\n",
              "        const buttonEl =\n",
              "          document.querySelector('#df-78df5850-a1c2-4bd2-b170-24bfaa89af2f button.colab-df-convert');\n",
              "        buttonEl.style.display =\n",
              "          google.colab.kernel.accessAllowed ? 'block' : 'none';\n",
              "\n",
              "        async function convertToInteractive(key) {\n",
              "          const element = document.querySelector('#df-78df5850-a1c2-4bd2-b170-24bfaa89af2f');\n",
              "          const dataTable =\n",
              "            await google.colab.kernel.invokeFunction('convertToInteractive',\n",
              "                                                     [key], {});\n",
              "          if (!dataTable) return;\n",
              "\n",
              "          const docLinkHtml = 'Like what you see? Visit the ' +\n",
              "            '<a target=\"_blank\" href=https://colab.research.google.com/notebooks/data_table.ipynb>data table notebook</a>'\n",
              "            + ' to learn more about interactive tables.';\n",
              "          element.innerHTML = '';\n",
              "          dataTable['output_type'] = 'display_data';\n",
              "          await google.colab.output.renderOutput(dataTable, element);\n",
              "          const docLink = document.createElement('div');\n",
              "          docLink.innerHTML = docLinkHtml;\n",
              "          element.appendChild(docLink);\n",
              "        }\n",
              "      </script>\n",
              "    </div>\n",
              "  </div>\n",
              "  "
            ]
          },
          "metadata": {},
          "execution_count": 93
        }
      ]
    },
    {
      "cell_type": "code",
      "source": [
        "new2_df=df4.copy()"
      ],
      "metadata": {
        "id": "AZTWffJq9JRW"
      },
      "execution_count": null,
      "outputs": []
    },
    {
      "cell_type": "code",
      "source": [
        "# Visualize the clusters with original data\n",
        "new2_df['clusters']= y_predicted\n",
        "df1 = new2_df[new2_df.clusters==0]\n",
        "df2 = new2_df[new2_df.clusters==1]\n",
        "df3 = new2_df[new2_df.clusters==2]\n",
        "plt.figure(figsize=(20,10))\n",
        "plt.scatter(df1.recency_days,df1['gross_revenue'],color='green')\n",
        "plt.scatter(df2.recency_days,df2['gross_revenue'],color='red')\n",
        "plt.scatter(df3.recency_days,df3['gross_revenue'],color='blue')\n",
        "plt.scatter(km.cluster_centers_[:,0],km.cluster_centers_[:,1],color='purple',marker='*',label='centroid')\n",
        "plt.legend()\n",
        "plt.xlabel('recency_days')\n",
        "plt.ylabel('TotalAmount')\n",
        "plt.title('K-Means Cluster Profiles,recency_days vs. TotalAmount')\n",
        "plt.show()"
      ],
      "metadata": {
        "colab": {
          "base_uri": "https://localhost:8080/",
          "height": 620
        },
        "id": "eZ7j5xPh8ao8",
        "outputId": "117a1523-c7fe-4ac2-d58f-d3ed9333442f"
      },
      "execution_count": null,
      "outputs": [
        {
          "output_type": "display_data",
          "data": {
            "text/plain": [
              "<Figure size 1440x720 with 1 Axes>"
            ],
            "image/png": "[encoded data removed]"
          },
          "metadata": {}
        }
      ]
    },
    {
      "cell_type": "markdown",
      "source": [
        "**CONCLUSION**\n",
        "\n",
        "\n",
        "The K-Means model segments the data into distinct clusters based on customer's Recency(Last_transaction) and Monetary(TotalAmount).\n",
        "\n",
        "* Cluster 0 consists of customers with the last_transaction between 0 and 70 days, and total amount spent between 0 to $3000\n",
        "\n",
        "* Cluster 1 consist of customers with the last_transaction between 70 and 180 days, and total amount spent between 0 and $1500\n",
        "\n",
        "* Cluster 2 consits of custoemrs with the last_transaction between 170 and 370 days, and total amount spent between $1200 and $1500"
      ],
      "metadata": {
        "id": "IfPgy07E-LFD"
      }
    },
    {
      "cell_type": "markdown",
      "source": [
        "**WE CAN SEE THAT  RESULTS  OBTAINED FROM PCA ARE NOT THAT MUCH DIFFERENT**"
      ],
      "metadata": {
        "id": "8Ewqh6ZaAwOw"
      }
    }
  ]
}